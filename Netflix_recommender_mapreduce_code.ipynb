{
 "cells": [
  {
   "cell_type": "code",
   "execution_count": 8,
   "metadata": {
    "_cell_guid": "b1076dfc-b9ad-4769-8c92-a6c4dae69d19",
    "_uuid": "8f2839f25d086af736a60e9eeb907d3b93b6e0e5",
    "execution": {
     "iopub.execute_input": "2022-12-19T23:38:46.221368Z",
     "iopub.status.busy": "2022-12-19T23:38:46.218903Z",
     "iopub.status.idle": "2022-12-19T23:38:46.251693Z",
     "shell.execute_reply": "2022-12-19T23:38:46.250227Z",
     "shell.execute_reply.started": "2022-12-19T23:38:46.221262Z"
    }
   },
   "outputs": [
    {
     "name": "stdout",
     "output_type": "stream",
     "text": [
      "/kaggle/input/netflix-prize-data/combined_data_3.txt\n",
      "/kaggle/input/netflix-prize-data/movie_titles.csv\n",
      "/kaggle/input/netflix-prize-data/combined_data_4.txt\n",
      "/kaggle/input/netflix-prize-data/combined_data_1.txt\n",
      "/kaggle/input/netflix-prize-data/README\n",
      "/kaggle/input/netflix-prize-data/probe.txt\n",
      "/kaggle/input/netflix-prize-data/combined_data_2.txt\n",
      "/kaggle/input/netflix-prize-data/qualifying.txt\n"
     ]
    }
   ],
   "source": [
    "# This Python 3 environment comes with many helpful analytics libraries installed\n",
    "# It is defined by the kaggle/python Docker image: https://github.com/kaggle/docker-python\n",
    "# For example, here's several helpful packages to load\n",
    "\n",
    "import numpy as np # linear algebra\n",
    "import pandas as pd # data processing, CSV file I/O (e.g. pd.read_csv)\n",
    "\n",
    "# Input data files are available in the read-only \"../input/\" directory\n",
    "# For example, running this (by clicking run or pressing Shift+Enter) will list all files under the input directory\n",
    "\n",
    "import os\n",
    "for dirname, _, filenames in os.walk('/kaggle/input'):\n",
    "    for filename in filenames:\n",
    "        print(os.path.join(dirname, filename))\n",
    "\n",
    "# You can write up to 20GB to the current directory (/kaggle/working/) that gets preserved as output when you create a version using \"Save & Run All\" \n",
    "# You can also write temporary files to /kaggle/temp/, but they won't be saved outside of the current session"
   ]
  },
  {
   "cell_type": "code",
   "execution_count": null,
   "metadata": {},
   "outputs": [],
   "source": []
  },
  {
   "cell_type": "markdown",
   "metadata": {},
   "source": [
    "## Importing Required Libraries"
   ]
  },
  {
   "cell_type": "code",
   "execution_count": 1,
   "metadata": {
    "execution": {
     "iopub.execute_input": "2022-12-20T01:42:08.718607Z",
     "iopub.status.busy": "2022-12-20T01:42:08.718121Z",
     "iopub.status.idle": "2022-12-20T01:42:09.214461Z",
     "shell.execute_reply": "2022-12-20T01:42:09.212927Z",
     "shell.execute_reply.started": "2022-12-20T01:42:08.718517Z"
    }
   },
   "outputs": [],
   "source": [
    "import pandas as pd\n",
    "import numpy as np\n",
    "import matplotlib.pyplot as plt\n",
    "import os\n",
    "import datetime,time\n",
    "from scipy import sparse\n",
    "from sklearn.metrics.pairwise import cosine_similarity"
   ]
  },
  {
   "cell_type": "markdown",
   "metadata": {},
   "source": [
    "## Labelling all the Filenames which consist Data"
   ]
  },
  {
   "cell_type": "code",
   "execution_count": 2,
   "metadata": {
    "execution": {
     "iopub.execute_input": "2022-12-20T01:42:11.966674Z",
     "iopub.status.busy": "2022-12-20T01:42:11.966294Z",
     "iopub.status.idle": "2022-12-20T01:42:11.973793Z",
     "shell.execute_reply": "2022-12-20T01:42:11.972377Z",
     "shell.execute_reply.started": "2022-12-20T01:42:11.966642Z"
    }
   },
   "outputs": [
    {
     "name": "stdout",
     "output_type": "stream",
     "text": [
      "['/kaggle/input/netflix-prize-data/combined_data_1.txt', '/kaggle/input/netflix-prize-data/combined_data_2.txt', '/kaggle/input/netflix-prize-data/combined_data_3.txt', '/kaggle/input/netflix-prize-data/combined_data_4.txt']\n"
     ]
    }
   ],
   "source": [
    "filenames = []\n",
    "for i in range(1,5):\n",
    "    filenames.append('/kaggle/input/netflix-prize-data/combined_data_'+str(i)+'.txt')\n",
    "print(filenames)"
   ]
  },
  {
   "cell_type": "markdown",
   "metadata": {},
   "source": [
    "## Combining all the different files into 1 large File"
   ]
  },
  {
   "cell_type": "code",
   "execution_count": 3,
   "metadata": {
    "execution": {
     "iopub.execute_input": "2022-12-20T01:42:16.263291Z",
     "iopub.status.busy": "2022-12-20T01:42:16.262415Z",
     "iopub.status.idle": "2022-12-20T01:44:45.205103Z",
     "shell.execute_reply": "2022-12-20T01:44:45.204066Z",
     "shell.execute_reply.started": "2022-12-20T01:42:16.263251Z"
    }
   },
   "outputs": [],
   "source": [
    "if not os.path.isfile('data.csv'):\n",
    "\n",
    "    data = open('data.csv',mode= 'w')\n",
    "    \n",
    "    for file in filenames:\n",
    "        with open(file) as f:\n",
    "            for line in f:\n",
    "                line = line.strip()\n",
    "                if line[-1] == ':':\n",
    "                    movie = line[:-1]\n",
    "                else:\n",
    "                    row = [i for i in line.split(',')]\n",
    "                    row.insert(0,movie)\n",
    "                    data.write(','.join(row))\n",
    "                    data.write('\\n')\n",
    "    data.close()\n",
    "    "
   ]
  },
  {
   "cell_type": "markdown",
   "metadata": {},
   "source": [
    "### Initalizing a dataframe and sorting the values by "
   ]
  },
  {
   "cell_type": "code",
   "execution_count": 4,
   "metadata": {
    "execution": {
     "iopub.execute_input": "2022-12-20T01:44:45.207129Z",
     "iopub.status.busy": "2022-12-20T01:44:45.206755Z",
     "iopub.status.idle": "2022-12-20T01:45:51.829593Z",
     "shell.execute_reply": "2022-12-20T01:45:51.827129Z",
     "shell.execute_reply.started": "2022-12-20T01:44:45.207092Z"
    }
   },
   "outputs": [],
   "source": [
    "df = pd.read_csv('data.csv',sep = ',', names = ['movie','user','rating','date'])\n",
    "df['date'] = pd.to_datetime(df['date'])\n",
    "df = df.sort_values(by = 'date')"
   ]
  },
  {
   "cell_type": "code",
   "execution_count": 6,
   "metadata": {
    "execution": {
     "iopub.execute_input": "2022-12-19T23:13:55.951342Z",
     "iopub.status.busy": "2022-12-19T23:13:55.951001Z",
     "iopub.status.idle": "2022-12-19T23:13:55.975057Z",
     "shell.execute_reply": "2022-12-19T23:13:55.973683Z",
     "shell.execute_reply.started": "2022-12-19T23:13:55.951313Z"
    }
   },
   "outputs": [
    {
     "data": {
      "text/html": [
       "<div>\n",
       "<style scoped>\n",
       "    .dataframe tbody tr th:only-of-type {\n",
       "        vertical-align: middle;\n",
       "    }\n",
       "\n",
       "    .dataframe tbody tr th {\n",
       "        vertical-align: top;\n",
       "    }\n",
       "\n",
       "    .dataframe thead th {\n",
       "        text-align: right;\n",
       "    }\n",
       "</style>\n",
       "<table border=\"1\" class=\"dataframe\">\n",
       "  <thead>\n",
       "    <tr style=\"text-align: right;\">\n",
       "      <th></th>\n",
       "      <th>movie</th>\n",
       "      <th>user</th>\n",
       "      <th>rating</th>\n",
       "      <th>date</th>\n",
       "    </tr>\n",
       "  </thead>\n",
       "  <tbody>\n",
       "    <tr>\n",
       "      <th>56431994</th>\n",
       "      <td>10341</td>\n",
       "      <td>510180</td>\n",
       "      <td>4</td>\n",
       "      <td>1999-11-11</td>\n",
       "    </tr>\n",
       "    <tr>\n",
       "      <th>9056171</th>\n",
       "      <td>1798</td>\n",
       "      <td>510180</td>\n",
       "      <td>5</td>\n",
       "      <td>1999-11-11</td>\n",
       "    </tr>\n",
       "    <tr>\n",
       "      <th>58698779</th>\n",
       "      <td>10774</td>\n",
       "      <td>510180</td>\n",
       "      <td>3</td>\n",
       "      <td>1999-11-11</td>\n",
       "    </tr>\n",
       "    <tr>\n",
       "      <th>48101611</th>\n",
       "      <td>8651</td>\n",
       "      <td>510180</td>\n",
       "      <td>2</td>\n",
       "      <td>1999-11-11</td>\n",
       "    </tr>\n",
       "    <tr>\n",
       "      <th>81893208</th>\n",
       "      <td>14660</td>\n",
       "      <td>510180</td>\n",
       "      <td>2</td>\n",
       "      <td>1999-11-11</td>\n",
       "    </tr>\n",
       "  </tbody>\n",
       "</table>\n",
       "</div>"
      ],
      "text/plain": [
       "          movie    user  rating       date\n",
       "56431994  10341  510180       4 1999-11-11\n",
       "9056171    1798  510180       5 1999-11-11\n",
       "58698779  10774  510180       3 1999-11-11\n",
       "48101611   8651  510180       2 1999-11-11\n",
       "81893208  14660  510180       2 1999-11-11"
      ]
     },
     "execution_count": 6,
     "metadata": {},
     "output_type": "execute_result"
    }
   ],
   "source": [
    "df.head()"
   ]
  },
  {
   "cell_type": "markdown",
   "metadata": {},
   "source": []
  },
  {
   "cell_type": "code",
   "execution_count": 6,
   "metadata": {
    "execution": {
     "iopub.execute_input": "2022-12-19T22:19:01.919227Z",
     "iopub.status.busy": "2022-12-19T22:19:01.918648Z",
     "iopub.status.idle": "2022-12-19T22:19:14.535016Z",
     "shell.execute_reply": "2022-12-19T22:19:14.533734Z",
     "shell.execute_reply.started": "2022-12-19T22:19:01.919154Z"
    }
   },
   "outputs": [
    {
     "data": {
      "text/html": [
       "<div>\n",
       "<style scoped>\n",
       "    .dataframe tbody tr th:only-of-type {\n",
       "        vertical-align: middle;\n",
       "    }\n",
       "\n",
       "    .dataframe tbody tr th {\n",
       "        vertical-align: top;\n",
       "    }\n",
       "\n",
       "    .dataframe thead th {\n",
       "        text-align: right;\n",
       "    }\n",
       "</style>\n",
       "<table border=\"1\" class=\"dataframe\">\n",
       "  <thead>\n",
       "    <tr style=\"text-align: right;\">\n",
       "      <th></th>\n",
       "      <th>movie</th>\n",
       "      <th>user</th>\n",
       "      <th>rating</th>\n",
       "    </tr>\n",
       "  </thead>\n",
       "  <tbody>\n",
       "    <tr>\n",
       "      <th>count</th>\n",
       "      <td>1.004805e+08</td>\n",
       "      <td>1.004805e+08</td>\n",
       "      <td>1.004805e+08</td>\n",
       "    </tr>\n",
       "    <tr>\n",
       "      <th>mean</th>\n",
       "      <td>9.070915e+03</td>\n",
       "      <td>1.322489e+06</td>\n",
       "      <td>3.604290e+00</td>\n",
       "    </tr>\n",
       "    <tr>\n",
       "      <th>std</th>\n",
       "      <td>5.131891e+03</td>\n",
       "      <td>7.645368e+05</td>\n",
       "      <td>1.085219e+00</td>\n",
       "    </tr>\n",
       "    <tr>\n",
       "      <th>min</th>\n",
       "      <td>1.000000e+00</td>\n",
       "      <td>6.000000e+00</td>\n",
       "      <td>1.000000e+00</td>\n",
       "    </tr>\n",
       "    <tr>\n",
       "      <th>25%</th>\n",
       "      <td>4.677000e+03</td>\n",
       "      <td>6.611980e+05</td>\n",
       "      <td>3.000000e+00</td>\n",
       "    </tr>\n",
       "    <tr>\n",
       "      <th>50%</th>\n",
       "      <td>9.051000e+03</td>\n",
       "      <td>1.319012e+06</td>\n",
       "      <td>4.000000e+00</td>\n",
       "    </tr>\n",
       "    <tr>\n",
       "      <th>75%</th>\n",
       "      <td>1.363500e+04</td>\n",
       "      <td>1.984455e+06</td>\n",
       "      <td>4.000000e+00</td>\n",
       "    </tr>\n",
       "    <tr>\n",
       "      <th>max</th>\n",
       "      <td>1.777000e+04</td>\n",
       "      <td>2.649429e+06</td>\n",
       "      <td>5.000000e+00</td>\n",
       "    </tr>\n",
       "  </tbody>\n",
       "</table>\n",
       "</div>"
      ],
      "text/plain": [
       "              movie          user        rating\n",
       "count  1.004805e+08  1.004805e+08  1.004805e+08\n",
       "mean   9.070915e+03  1.322489e+06  3.604290e+00\n",
       "std    5.131891e+03  7.645368e+05  1.085219e+00\n",
       "min    1.000000e+00  6.000000e+00  1.000000e+00\n",
       "25%    4.677000e+03  6.611980e+05  3.000000e+00\n",
       "50%    9.051000e+03  1.319012e+06  4.000000e+00\n",
       "75%    1.363500e+04  1.984455e+06  4.000000e+00\n",
       "max    1.777000e+04  2.649429e+06  5.000000e+00"
      ]
     },
     "execution_count": 6,
     "metadata": {},
     "output_type": "execute_result"
    }
   ],
   "source": [
    "df.describe()"
   ]
  },
  {
   "cell_type": "code",
   "execution_count": 6,
   "metadata": {
    "execution": {
     "iopub.execute_input": "2022-12-20T01:49:40.548068Z",
     "iopub.status.busy": "2022-12-20T01:49:40.547691Z",
     "iopub.status.idle": "2022-12-20T01:49:40.681698Z",
     "shell.execute_reply": "2022-12-20T01:49:40.680433Z",
     "shell.execute_reply.started": "2022-12-20T01:49:40.548040Z"
    }
   },
   "outputs": [
    {
     "name": "stdout",
     "output_type": "stream",
     "text": [
      "Number of Null values in dataframe :  0\n"
     ]
    }
   ],
   "source": [
    "print(\"Number of Null values in dataframe : \", sum(df.isnull().any()))"
   ]
  },
  {
   "cell_type": "code",
   "execution_count": 9,
   "metadata": {
    "execution": {
     "iopub.execute_input": "2022-12-20T01:50:33.974166Z",
     "iopub.status.busy": "2022-12-20T01:50:33.973765Z",
     "iopub.status.idle": "2022-12-20T01:50:34.485969Z",
     "shell.execute_reply": "2022-12-20T01:50:34.484986Z",
     "shell.execute_reply.started": "2022-12-20T01:50:33.974135Z"
    }
   },
   "outputs": [
    {
     "name": "stdout",
     "output_type": "stream",
     "text": [
      "Number of unique movies:  17770\n"
     ]
    }
   ],
   "source": [
    "print(\"Number of unique movies: \", len(pd.unique(df['movie'])))"
   ]
  },
  {
   "cell_type": "code",
   "execution_count": 10,
   "metadata": {
    "execution": {
     "iopub.execute_input": "2022-12-20T01:50:53.834051Z",
     "iopub.status.busy": "2022-12-20T01:50:53.833685Z",
     "iopub.status.idle": "2022-12-20T01:50:55.487533Z",
     "shell.execute_reply": "2022-12-20T01:50:55.486137Z",
     "shell.execute_reply.started": "2022-12-20T01:50:53.834022Z"
    }
   },
   "outputs": [
    {
     "name": "stdout",
     "output_type": "stream",
     "text": [
      "Number of unique users:  480189\n"
     ]
    }
   ],
   "source": [
    "print(\"Number of unique users: \", len(pd.unique(df['user'])))"
   ]
  },
  {
   "cell_type": "code",
   "execution_count": 7,
   "metadata": {
    "execution": {
     "iopub.execute_input": "2022-12-19T23:13:57.119670Z",
     "iopub.status.busy": "2022-12-19T23:13:57.118229Z",
     "iopub.status.idle": "2022-12-19T23:14:24.981028Z",
     "shell.execute_reply": "2022-12-19T23:14:24.980156Z",
     "shell.execute_reply.started": "2022-12-19T23:13:57.119605Z"
    }
   },
   "outputs": [
    {
     "data": {
      "text/plain": [
       "<AxesSubplot:xlabel='rating', ylabel='count'>"
      ]
     },
     "execution_count": 7,
     "metadata": {},
     "output_type": "execute_result"
    },
    {
     "data": {
      "image/png": "[encoded data removed]",
      "text/plain": [
       "<Figure size 432x288 with 1 Axes>"
      ]
     },
     "metadata": {
      "needs_background": "light"
     },
     "output_type": "display_data"
    }
   ],
   "source": [
    "import seaborn as sns\n",
    "sns.countplot(x=df[\"rating\"])"
   ]
  },
  {
   "cell_type": "markdown",
   "metadata": {},
   "source": [
    "### Splitting the data into train and test"
   ]
  },
  {
   "cell_type": "code",
   "execution_count": 19,
   "metadata": {
    "execution": {
     "iopub.execute_input": "2022-12-19T23:43:29.622766Z",
     "iopub.status.busy": "2022-12-19T23:43:29.622313Z",
     "iopub.status.idle": "2022-12-19T23:52:13.640635Z",
     "shell.execute_reply": "2022-12-19T23:52:13.638846Z",
     "shell.execute_reply.started": "2022-12-19T23:43:29.622728Z"
    }
   },
   "outputs": [],
   "source": [
    "train_df = df.iloc[:int(len(df)*0.8)]\n",
    "test_df = df.iloc[int(len(df)*0.8):]\n",
    "if not os.path.isfile('train.csv'):\n",
    "    train_df.to_csv('train.csv',index = False)\n",
    "if not os.path.isfile('test.csv'):\n",
    "    test_df.to_csv('test.csv',index = False)"
   ]
  },
  {
   "cell_type": "markdown",
   "metadata": {},
   "source": [
    "### Creating a Sparse matrix of users and movies with values as Rating"
   ]
  },
  {
   "cell_type": "code",
   "execution_count": 20,
   "metadata": {
    "execution": {
     "iopub.execute_input": "2022-12-19T23:52:13.678159Z",
     "iopub.status.busy": "2022-12-19T23:52:13.677788Z",
     "iopub.status.idle": "2022-12-19T23:53:30.867108Z",
     "shell.execute_reply": "2022-12-19T23:53:30.865267Z",
     "shell.execute_reply.started": "2022-12-19T23:52:13.678129Z"
    }
   },
   "outputs": [],
   "source": [
    "if not os.path.isfile('train_sparse_matrix.npz'):\n",
    "    train_sparse_matrix = sparse.csr_matrix((train_df['rating'].values,(train_df['user'].values,train_df['movie'].values)))\n",
    "    sparse.save_npz('train_sparse_matrix.npz',train_sparse_matrix)\n",
    "if not os.path.isfile('test_sparse_matrix.npz'):\n",
    "    test_sparse_matrix = sparse.csr_matrix((test_df['rating'].values,(test_df['user'].values,test_df['movie'].values)))\n",
    "    sparse.save_npz('test_sparse_matrix.npz',test_sparse_matrix)"
   ]
  },
  {
   "cell_type": "markdown",
   "metadata": {},
   "source": [
    "### Calculating the Similarities Between Movies"
   ]
  },
  {
   "cell_type": "code",
   "execution_count": 23,
   "metadata": {
    "execution": {
     "iopub.execute_input": "2022-12-19T23:58:53.348960Z",
     "iopub.status.busy": "2022-12-19T23:58:53.348546Z",
     "iopub.status.idle": "2022-12-19T23:58:53.355821Z",
     "shell.execute_reply": "2022-12-19T23:58:53.354245Z",
     "shell.execute_reply.started": "2022-12-19T23:58:53.348928Z"
    }
   },
   "outputs": [
    {
     "name": "stdout",
     "output_type": "stream",
     "text": [
      "time taken:291.93383836746216\n"
     ]
    }
   ],
   "source": [
    "if not os.path.isfile('mov_mov_sim.npz'):\n",
    "    s = time.time()\n",
    "    mov_sim = cosine_similarity(X=train_sparse_matrix.T,dense_output = False)\n",
    "    e = time.time()\n",
    "    print('time taken:'+stre-s)\n",
    "    sparse.save_npz('mov_mov_sim.npz',mov_sim)\n",
    "else:\n",
    "    mov_sim = sparse.load_npz('mov_mov_sim.npz')"
   ]
  },
  {
   "cell_type": "code",
   "execution_count": 21,
   "metadata": {
    "execution": {
     "iopub.execute_input": "2022-12-19T18:33:26.888237Z",
     "iopub.status.busy": "2022-12-19T18:33:26.887734Z",
     "iopub.status.idle": "2022-12-19T18:33:26.897179Z",
     "shell.execute_reply": "2022-12-19T18:33:26.895613Z",
     "shell.execute_reply.started": "2022-12-19T18:33:26.888198Z"
    }
   },
   "outputs": [
    {
     "data": {
      "text/plain": [
       "(17771, 17771)"
      ]
     },
     "execution_count": 21,
     "metadata": {},
     "output_type": "execute_result"
    }
   ],
   "source": [
    "mov_sim.shape"
   ]
  },
  {
   "cell_type": "markdown",
   "metadata": {},
   "source": [
    "### Finding similar movies for each movie"
   ]
  },
  {
   "cell_type": "code",
   "execution_count": 14,
   "metadata": {
    "execution": {
     "iopub.execute_input": "2022-12-19T18:31:43.401653Z",
     "iopub.status.busy": "2022-12-19T18:31:43.400946Z",
     "iopub.status.idle": "2022-12-19T18:32:18.346587Z",
     "shell.execute_reply": "2022-12-19T18:32:18.345392Z",
     "shell.execute_reply.started": "2022-12-19T18:31:43.401607Z"
    }
   },
   "outputs": [],
   "source": [
    "mov_ids = np.unique(mov_sim.nonzero()[1])\n",
    "sim_movies_dic = {}\n",
    "for m in mov_ids:\n",
    "    sim_movs = mov_sim[m].toarray().ravel().argsort()[::-1][1:]\n",
    "    sim_movies_dic[m] = sim_movs[:100]"
   ]
  },
  {
   "cell_type": "code",
   "execution_count": 23,
   "metadata": {
    "execution": {
     "iopub.execute_input": "2022-12-19T18:33:55.125579Z",
     "iopub.status.busy": "2022-12-19T18:33:55.125225Z",
     "iopub.status.idle": "2022-12-19T18:33:55.134850Z",
     "shell.execute_reply": "2022-12-19T18:33:55.132595Z",
     "shell.execute_reply.started": "2022-12-19T18:33:55.125549Z"
    }
   },
   "outputs": [
    {
     "data": {
      "text/plain": [
       "array([ 6242,  1649,  2179, 10782,  6954, 10008,  5726, 11633, 13722,\n",
       "       15087,  6581,  1091,  2887, 14337,  1477, 13257,   633, 11778,\n",
       "       12268, 10888, 13606, 13306,  5964,  1533, 16132, 13376, 14878,\n",
       "        5424,  5780, 10958,  9163,  5784,  9181, 12377, 14255,  2706,\n",
       "       10897,  9837,  6059, 10755, 11933,  9307,  3131, 12312, 13122,\n",
       "       14595, 12420,  4940,  8759,  9583, 13037, 15479, 11048,  4071,\n",
       "        1214,  2055,  7687,   465,   198,  4811,  9504,  7856,  9083,\n",
       "        9117, 10530,  4404,  7285,  1009,  5757, 13431,  7335,  2488,\n",
       "       13368,  2611,  9816,  2704,  2515, 12444,  5752,   553,  2792,\n",
       "       17191,  2587, 10477,  6745, 14605, 15937,  2373, 13733, 13719,\n",
       "        6412,  8501, 14119,  6897,  8285,  6088,  4903, 16638,  4228,\n",
       "       12550])"
      ]
     },
     "execution_count": 23,
     "metadata": {},
     "output_type": "execute_result"
    }
   ],
   "source": [
    "sim_movies_dic[20]"
   ]
  },
  {
   "cell_type": "markdown",
   "metadata": {},
   "source": [
    "### Reading the Movie titles"
   ]
  },
  {
   "cell_type": "code",
   "execution_count": 24,
   "metadata": {
    "execution": {
     "iopub.execute_input": "2022-12-19T18:35:11.968706Z",
     "iopub.status.busy": "2022-12-19T18:35:11.968271Z",
     "iopub.status.idle": "2022-12-19T18:35:11.995528Z",
     "shell.execute_reply": "2022-12-19T18:35:11.994425Z",
     "shell.execute_reply.started": "2022-12-19T18:35:11.968674Z"
    }
   },
   "outputs": [],
   "source": [
    "titles = pd.read_csv(\"/kaggle/input/netflix-prize-data/movie_titles.csv\",sep =',',header =None,names=['movie_id','year_of_release','title'],index_col='movie_id',encoding='ISO-8859-1')"
   ]
  },
  {
   "cell_type": "code",
   "execution_count": 25,
   "metadata": {
    "execution": {
     "iopub.execute_input": "2022-12-19T18:35:12.345590Z",
     "iopub.status.busy": "2022-12-19T18:35:12.345175Z",
     "iopub.status.idle": "2022-12-19T18:35:12.357363Z",
     "shell.execute_reply": "2022-12-19T18:35:12.356231Z",
     "shell.execute_reply.started": "2022-12-19T18:35:12.345558Z"
    }
   },
   "outputs": [
    {
     "data": {
      "text/html": [
       "<div>\n",
       "<style scoped>\n",
       "    .dataframe tbody tr th:only-of-type {\n",
       "        vertical-align: middle;\n",
       "    }\n",
       "\n",
       "    .dataframe tbody tr th {\n",
       "        vertical-align: top;\n",
       "    }\n",
       "\n",
       "    .dataframe thead th {\n",
       "        text-align: right;\n",
       "    }\n",
       "</style>\n",
       "<table border=\"1\" class=\"dataframe\">\n",
       "  <thead>\n",
       "    <tr style=\"text-align: right;\">\n",
       "      <th></th>\n",
       "      <th>year_of_release</th>\n",
       "      <th>title</th>\n",
       "    </tr>\n",
       "    <tr>\n",
       "      <th>movie_id</th>\n",
       "      <th></th>\n",
       "      <th></th>\n",
       "    </tr>\n",
       "  </thead>\n",
       "  <tbody>\n",
       "    <tr>\n",
       "      <th>1</th>\n",
       "      <td>2003.0</td>\n",
       "      <td>Dinosaur Planet</td>\n",
       "    </tr>\n",
       "    <tr>\n",
       "      <th>2</th>\n",
       "      <td>2004.0</td>\n",
       "      <td>Isle of Man TT 2004 Review</td>\n",
       "    </tr>\n",
       "    <tr>\n",
       "      <th>3</th>\n",
       "      <td>1997.0</td>\n",
       "      <td>Character</td>\n",
       "    </tr>\n",
       "    <tr>\n",
       "      <th>4</th>\n",
       "      <td>1994.0</td>\n",
       "      <td>Paula Abdul's Get Up &amp; Dance</td>\n",
       "    </tr>\n",
       "    <tr>\n",
       "      <th>5</th>\n",
       "      <td>2004.0</td>\n",
       "      <td>The Rise and Fall of ECW</td>\n",
       "    </tr>\n",
       "  </tbody>\n",
       "</table>\n",
       "</div>"
      ],
      "text/plain": [
       "          year_of_release                         title\n",
       "movie_id                                               \n",
       "1                  2003.0               Dinosaur Planet\n",
       "2                  2004.0    Isle of Man TT 2004 Review\n",
       "3                  1997.0                     Character\n",
       "4                  1994.0  Paula Abdul's Get Up & Dance\n",
       "5                  2004.0      The Rise and Fall of ECW"
      ]
     },
     "execution_count": 25,
     "metadata": {},
     "output_type": "execute_result"
    }
   ],
   "source": [
    "titles.head()"
   ]
  },
  {
   "cell_type": "markdown",
   "metadata": {},
   "source": [
    "### Example of similar Movies"
   ]
  },
  {
   "cell_type": "code",
   "execution_count": 26,
   "metadata": {
    "execution": {
     "iopub.execute_input": "2022-12-19T18:35:27.659731Z",
     "iopub.status.busy": "2022-12-19T18:35:27.659281Z",
     "iopub.status.idle": "2022-12-19T18:35:27.672331Z",
     "shell.execute_reply": "2022-12-19T18:35:27.670795Z",
     "shell.execute_reply.started": "2022-12-19T18:35:27.659695Z"
    }
   },
   "outputs": [
    {
     "name": "stdout",
     "output_type": "stream",
     "text": [
      "Movie Name: Star Wars: Episode I: The Phantom Menace: Bonus Material\n"
     ]
    }
   ],
   "source": [
    "movie_id = 10877\n",
    "print('Movie Name: '+titles.loc[movie_id].values[1])\n",
    "similarities = mov_sim[movie_id].toarray().ravel()\n",
    "sim_movie_indices = similarities.argsort()[::-1][1:]"
   ]
  },
  {
   "cell_type": "code",
   "execution_count": 27,
   "metadata": {
    "execution": {
     "iopub.execute_input": "2022-12-19T18:35:28.104966Z",
     "iopub.status.busy": "2022-12-19T18:35:28.104386Z",
     "iopub.status.idle": "2022-12-19T18:35:28.128424Z",
     "shell.execute_reply": "2022-12-19T18:35:28.126992Z",
     "shell.execute_reply.started": "2022-12-19T18:35:28.104896Z"
    }
   },
   "outputs": [
    {
     "data": {
      "text/html": [
       "<div>\n",
       "<style scoped>\n",
       "    .dataframe tbody tr th:only-of-type {\n",
       "        vertical-align: middle;\n",
       "    }\n",
       "\n",
       "    .dataframe tbody tr th {\n",
       "        vertical-align: top;\n",
       "    }\n",
       "\n",
       "    .dataframe thead th {\n",
       "        text-align: right;\n",
       "    }\n",
       "</style>\n",
       "<table border=\"1\" class=\"dataframe\">\n",
       "  <thead>\n",
       "    <tr style=\"text-align: right;\">\n",
       "      <th></th>\n",
       "      <th>year_of_release</th>\n",
       "      <th>title</th>\n",
       "    </tr>\n",
       "    <tr>\n",
       "      <th>movie_id</th>\n",
       "      <th></th>\n",
       "      <th></th>\n",
       "    </tr>\n",
       "  </thead>\n",
       "  <tbody>\n",
       "    <tr>\n",
       "      <th>5705</th>\n",
       "      <td>2002.0</td>\n",
       "      <td>Star Wars: Episode II: Attack of the Clones: B...</td>\n",
       "    </tr>\n",
       "    <tr>\n",
       "      <th>2776</th>\n",
       "      <td>2000.0</td>\n",
       "      <td>Unbreakable: Bonus Material</td>\n",
       "    </tr>\n",
       "    <tr>\n",
       "      <th>9177</th>\n",
       "      <td>2002.0</td>\n",
       "      <td>Spider-Man: Bonus Material</td>\n",
       "    </tr>\n",
       "    <tr>\n",
       "      <th>14022</th>\n",
       "      <td>2000.0</td>\n",
       "      <td>Gladiator: Bonus Material</td>\n",
       "    </tr>\n",
       "    <tr>\n",
       "      <th>10313</th>\n",
       "      <td>2001.0</td>\n",
       "      <td>Lord of the Rings: The Fellowship of the Ring:...</td>\n",
       "    </tr>\n",
       "    <tr>\n",
       "      <th>8072</th>\n",
       "      <td>1995.0</td>\n",
       "      <td>Seven: Bonus Material</td>\n",
       "    </tr>\n",
       "    <tr>\n",
       "      <th>14208</th>\n",
       "      <td>2001.0</td>\n",
       "      <td>A.I. Artificial Intelligence: Bonus Material</td>\n",
       "    </tr>\n",
       "    <tr>\n",
       "      <th>3524</th>\n",
       "      <td>1994.0</td>\n",
       "      <td>Pulp Fiction: Bonus Material</td>\n",
       "    </tr>\n",
       "    <tr>\n",
       "      <th>4045</th>\n",
       "      <td>2003.0</td>\n",
       "      <td>The Indiana Jones Trilogy: Bonus Material</td>\n",
       "    </tr>\n",
       "    <tr>\n",
       "      <th>673</th>\n",
       "      <td>1999.0</td>\n",
       "      <td>Fight Club: Bonus Material</td>\n",
       "    </tr>\n",
       "  </tbody>\n",
       "</table>\n",
       "</div>"
      ],
      "text/plain": [
       "          year_of_release                                              title\n",
       "movie_id                                                                    \n",
       "5705               2002.0  Star Wars: Episode II: Attack of the Clones: B...\n",
       "2776               2000.0                        Unbreakable: Bonus Material\n",
       "9177               2002.0                         Spider-Man: Bonus Material\n",
       "14022              2000.0                          Gladiator: Bonus Material\n",
       "10313              2001.0  Lord of the Rings: The Fellowship of the Ring:...\n",
       "8072               1995.0                              Seven: Bonus Material\n",
       "14208              2001.0       A.I. Artificial Intelligence: Bonus Material\n",
       "3524               1994.0                       Pulp Fiction: Bonus Material\n",
       "4045               2003.0          The Indiana Jones Trilogy: Bonus Material\n",
       "673                1999.0                         Fight Club: Bonus Material"
      ]
     },
     "execution_count": 27,
     "metadata": {},
     "output_type": "execute_result"
    }
   ],
   "source": [
    "titles.loc[sim_movie_indices[:10]]"
   ]
  },
  {
   "cell_type": "markdown",
   "metadata": {},
   "source": [
    "### Using pyspark to Creata an Alternating Least Squares Model"
   ]
  },
  {
   "cell_type": "code",
   "execution_count": 24,
   "metadata": {
    "execution": {
     "iopub.execute_input": "2022-12-19T23:59:47.886598Z",
     "iopub.status.busy": "2022-12-19T23:59:47.886195Z",
     "iopub.status.idle": "2022-12-20T00:00:39.097197Z",
     "shell.execute_reply": "2022-12-20T00:00:39.094545Z",
     "shell.execute_reply.started": "2022-12-19T23:59:47.886564Z"
    }
   },
   "outputs": [
    {
     "name": "stdout",
     "output_type": "stream",
     "text": [
      "Collecting pyspark\n",
      "  Downloading pyspark-3.3.1.tar.gz (281.4 MB)\n",
      "\u001b[2K     \u001b[90m━━━━━━━━━━━━━━━━━━━━━━━━━━━━━━━━━━━━━━━\u001b[0m \u001b[32m281.4/281.4 MB\u001b[0m \u001b[31m2.3 MB/s\u001b[0m eta \u001b[36m0:00:00\u001b[0m00:01\u001b[0m00:01\u001b[0m\n",
      "\u001b[?25h  Preparing metadata (setup.py) ... \u001b[?25ldone\n",
      "\u001b[?25hCollecting py4j==0.10.9.5\n",
      "  Downloading py4j-0.10.9.5-py2.py3-none-any.whl (199 kB)\n",
      "\u001b[2K     \u001b[90m━━━━━━━━━━━━━━━━━━━━━━━━━━━━━━━━━━━━━━\u001b[0m \u001b[32m199.7/199.7 kB\u001b[0m \u001b[31m14.3 MB/s\u001b[0m eta \u001b[36m0:00:00\u001b[0m\n",
      "\u001b[?25hBuilding wheels for collected packages: pyspark\n",
      "  Building wheel for pyspark (setup.py) ... \u001b[?25ldone\n",
      "\u001b[?25h  Created wheel for pyspark: filename=pyspark-3.3.1-py2.py3-none-any.whl size=281845513 sha256=b7fc80fb44ba6767be40e469cd8b30b40dfdfe01f46e3de7e30e1baa5a23df45\n",
      "  Stored in directory: /root/.cache/pip/wheels/42/59/f5/79a5bf931714dcd201b26025347785f087370a10a3329a899c\n",
      "Successfully built pyspark\n",
      "Installing collected packages: py4j, pyspark\n",
      "  Attempting uninstall: py4j\n",
      "    Found existing installation: py4j 0.10.9.7\n",
      "    Uninstalling py4j-0.10.9.7:\n",
      "      Successfully uninstalled py4j-0.10.9.7\n",
      "Successfully installed py4j-0.10.9.5 pyspark-3.3.1\n",
      "\u001b[33mWARNING: Running pip as the 'root' user can result in broken permissions and conflicting behaviour with the system package manager. It is recommended to use a virtual environment instead: https://pip.pypa.io/warnings/venv\u001b[0m\u001b[33m\n",
      "\u001b[0m"
     ]
    }
   ],
   "source": [
    "!pip install pyspark"
   ]
  },
  {
   "cell_type": "code",
   "execution_count": 25,
   "metadata": {
    "execution": {
     "iopub.execute_input": "2022-12-20T00:00:39.100926Z",
     "iopub.status.busy": "2022-12-20T00:00:39.100507Z",
     "iopub.status.idle": "2022-12-20T00:00:44.731762Z",
     "shell.execute_reply": "2022-12-20T00:00:44.730108Z",
     "shell.execute_reply.started": "2022-12-20T00:00:39.100893Z"
    }
   },
   "outputs": [
    {
     "name": "stderr",
     "output_type": "stream",
     "text": [
      "Setting default log level to \"WARN\".\n",
      "To adjust logging level use sc.setLogLevel(newLevel). For SparkR, use setLogLevel(newLevel).\n"
     ]
    },
    {
     "name": "stdout",
     "output_type": "stream",
     "text": [
      "22/12/20 00:00:42 WARN NativeCodeLoader: Unable to load native-hadoop library for your platform... using builtin-java classes where applicable\n"
     ]
    }
   ],
   "source": [
    "from pyspark.sql import SparkSession\n",
    "#Create PySpark SparkSession\n",
    "spark = SparkSession.builder \\\n",
    "    .master(\"local[1]\") \\\n",
    "    .appName(\"Netflixrecommendation.com\") \\\n",
    "    .getOrCreate()"
   ]
  },
  {
   "cell_type": "markdown",
   "metadata": {},
   "source": [
    "### Considering only Rating and not Date"
   ]
  },
  {
   "cell_type": "code",
   "execution_count": 26,
   "metadata": {
    "execution": {
     "iopub.execute_input": "2022-12-20T00:00:44.737563Z",
     "iopub.status.busy": "2022-12-20T00:00:44.737100Z",
     "iopub.status.idle": "2022-12-20T00:00:45.204738Z",
     "shell.execute_reply": "2022-12-20T00:00:45.203142Z",
     "shell.execute_reply.started": "2022-12-20T00:00:44.737525Z"
    }
   },
   "outputs": [],
   "source": [
    "train_df_sp = train_df.drop(['date'],axis=1)"
   ]
  },
  {
   "cell_type": "code",
   "execution_count": 27,
   "metadata": {
    "execution": {
     "iopub.execute_input": "2022-12-20T00:00:45.208322Z",
     "iopub.status.busy": "2022-12-20T00:00:45.207949Z",
     "iopub.status.idle": "2022-12-20T00:00:45.222987Z",
     "shell.execute_reply": "2022-12-20T00:00:45.221333Z",
     "shell.execute_reply.started": "2022-12-20T00:00:45.208292Z"
    }
   },
   "outputs": [
    {
     "data": {
      "text/html": [
       "<div>\n",
       "<style scoped>\n",
       "    .dataframe tbody tr th:only-of-type {\n",
       "        vertical-align: middle;\n",
       "    }\n",
       "\n",
       "    .dataframe tbody tr th {\n",
       "        vertical-align: top;\n",
       "    }\n",
       "\n",
       "    .dataframe thead th {\n",
       "        text-align: right;\n",
       "    }\n",
       "</style>\n",
       "<table border=\"1\" class=\"dataframe\">\n",
       "  <thead>\n",
       "    <tr style=\"text-align: right;\">\n",
       "      <th></th>\n",
       "      <th>movie</th>\n",
       "      <th>user</th>\n",
       "      <th>rating</th>\n",
       "    </tr>\n",
       "  </thead>\n",
       "  <tbody>\n",
       "    <tr>\n",
       "      <th>56431994</th>\n",
       "      <td>10341</td>\n",
       "      <td>510180</td>\n",
       "      <td>4</td>\n",
       "    </tr>\n",
       "    <tr>\n",
       "      <th>9056171</th>\n",
       "      <td>1798</td>\n",
       "      <td>510180</td>\n",
       "      <td>5</td>\n",
       "    </tr>\n",
       "    <tr>\n",
       "      <th>58698779</th>\n",
       "      <td>10774</td>\n",
       "      <td>510180</td>\n",
       "      <td>3</td>\n",
       "    </tr>\n",
       "    <tr>\n",
       "      <th>48101611</th>\n",
       "      <td>8651</td>\n",
       "      <td>510180</td>\n",
       "      <td>2</td>\n",
       "    </tr>\n",
       "    <tr>\n",
       "      <th>81893208</th>\n",
       "      <td>14660</td>\n",
       "      <td>510180</td>\n",
       "      <td>2</td>\n",
       "    </tr>\n",
       "  </tbody>\n",
       "</table>\n",
       "</div>"
      ],
      "text/plain": [
       "          movie    user  rating\n",
       "56431994  10341  510180       4\n",
       "9056171    1798  510180       5\n",
       "58698779  10774  510180       3\n",
       "48101611   8651  510180       2\n",
       "81893208  14660  510180       2"
      ]
     },
     "execution_count": 27,
     "metadata": {},
     "output_type": "execute_result"
    }
   ],
   "source": [
    "train_df_sp.head()"
   ]
  },
  {
   "cell_type": "code",
   "execution_count": 28,
   "metadata": {
    "execution": {
     "iopub.execute_input": "2022-12-20T00:00:45.224296Z",
     "iopub.status.busy": "2022-12-20T00:00:45.224023Z",
     "iopub.status.idle": "2022-12-20T00:00:51.077604Z",
     "shell.execute_reply": "2022-12-20T00:00:51.076131Z",
     "shell.execute_reply.started": "2022-12-20T00:00:45.224273Z"
    }
   },
   "outputs": [],
   "source": [
    "train_df_sp.to_parquet(f'/kaggle/working/Movie_data.parquet',index = False)"
   ]
  },
  {
   "cell_type": "code",
   "execution_count": 29,
   "metadata": {
    "execution": {
     "iopub.execute_input": "2022-12-20T00:00:51.079605Z",
     "iopub.status.busy": "2022-12-20T00:00:51.079180Z",
     "iopub.status.idle": "2022-12-20T00:00:51.086862Z",
     "shell.execute_reply": "2022-12-20T00:00:51.085283Z",
     "shell.execute_reply.started": "2022-12-20T00:00:51.079566Z"
    }
   },
   "outputs": [],
   "source": [
    "from pyspark.sql.functions import *\n",
    "from pyspark.sql.types import StructType,StructField, FloatType, StringType, IntegerType"
   ]
  },
  {
   "cell_type": "markdown",
   "metadata": {},
   "source": [
    "### Creating a spark DataFrame"
   ]
  },
  {
   "cell_type": "code",
   "execution_count": 30,
   "metadata": {
    "execution": {
     "iopub.execute_input": "2022-12-20T00:00:51.088949Z",
     "iopub.status.busy": "2022-12-20T00:00:51.088463Z",
     "iopub.status.idle": "2022-12-20T00:00:56.723473Z",
     "shell.execute_reply": "2022-12-20T00:00:56.722391Z",
     "shell.execute_reply.started": "2022-12-20T00:00:51.088920Z"
    }
   },
   "outputs": [
    {
     "name": "stderr",
     "output_type": "stream",
     "text": [
      "                                                                                \r"
     ]
    }
   ],
   "source": [
    "schema = StructType([ \\\n",
    "    StructField(\"movie\",IntegerType(),True), \\\n",
    "    StructField(\"user\",IntegerType(),True), \\\n",
    "    StructField(\"rating\",FloatType(),True)\n",
    "  ])\n",
    "\n",
    "spark_df = spark.createDataFrame([],schema = schema)\n",
    "\n",
    "Temp = spark.read.parquet('/kaggle/working/Movie_data.parquet')\n",
    "spark_df = spark_df.union(Temp)\n",
    "    "
   ]
  },
  {
   "cell_type": "code",
   "execution_count": 31,
   "metadata": {
    "execution": {
     "iopub.execute_input": "2022-12-20T00:00:56.725483Z",
     "iopub.status.busy": "2022-12-20T00:00:56.725157Z",
     "iopub.status.idle": "2022-12-20T00:00:57.421391Z",
     "shell.execute_reply": "2022-12-20T00:00:57.420000Z",
     "shell.execute_reply.started": "2022-12-20T00:00:56.725454Z"
    }
   },
   "outputs": [],
   "source": [
    "from pyspark.ml.recommendation import ALS\n",
    "from pyspark.ml.evaluation import RegressionEvaluator\n",
    "from pyspark.ml.tuning import CrossValidator, ParamGridBuilder, TrainValidationSplit"
   ]
  },
  {
   "cell_type": "markdown",
   "metadata": {},
   "source": [
    "### Reducing dataset size "
   ]
  },
  {
   "cell_type": "code",
   "execution_count": 32,
   "metadata": {
    "execution": {
     "iopub.execute_input": "2022-12-20T00:00:57.423677Z",
     "iopub.status.busy": "2022-12-20T00:00:57.422875Z",
     "iopub.status.idle": "2022-12-20T00:00:58.347519Z",
     "shell.execute_reply": "2022-12-20T00:00:58.346309Z",
     "shell.execute_reply.started": "2022-12-20T00:00:57.423632Z"
    }
   },
   "outputs": [],
   "source": [
    "spark_df = spark_df.sample(fraction = 0.01)"
   ]
  },
  {
   "cell_type": "code",
   "execution_count": 33,
   "metadata": {
    "execution": {
     "iopub.execute_input": "2022-12-20T00:00:58.351059Z",
     "iopub.status.busy": "2022-12-20T00:00:58.350544Z",
     "iopub.status.idle": "2022-12-20T00:01:01.735092Z",
     "shell.execute_reply": "2022-12-20T00:01:01.734075Z",
     "shell.execute_reply.started": "2022-12-20T00:00:58.351021Z"
    }
   },
   "outputs": [
    {
     "name": "stderr",
     "output_type": "stream",
     "text": [
      "[Stage 1:===================================>                       (3 + 1) / 5]\r"
     ]
    },
    {
     "name": "stdout",
     "output_type": "stream",
     "text": [
      "+-----+-------+------+\n",
      "|movie|   user|rating|\n",
      "+-----+-------+------+\n",
      "|12473| 510180|   5.0|\n",
      "| 9432| 510180|   3.0|\n",
      "| 6574|1972971|   3.0|\n",
      "|17064| 731941|   4.0|\n",
      "|  269| 122223|   4.0|\n",
      "+-----+-------+------+\n",
      "\n"
     ]
    },
    {
     "name": "stderr",
     "output_type": "stream",
     "text": [
      "                                                                                \r"
     ]
    }
   ],
   "source": [
    "spark_df.limit(5).show()"
   ]
  },
  {
   "cell_type": "code",
   "execution_count": 34,
   "metadata": {
    "execution": {
     "iopub.execute_input": "2022-12-20T00:01:01.736533Z",
     "iopub.status.busy": "2022-12-20T00:01:01.736157Z",
     "iopub.status.idle": "2022-12-20T00:01:01.771551Z",
     "shell.execute_reply": "2022-12-20T00:01:01.769952Z",
     "shell.execute_reply.started": "2022-12-20T00:01:01.736497Z"
    }
   },
   "outputs": [],
   "source": [
    "(Train_data, Validation_Data) = spark_df.randomSplit([0.8, 0.2])"
   ]
  },
  {
   "cell_type": "markdown",
   "metadata": {},
   "source": [
    "### Using Cross validation to find the Best Model"
   ]
  },
  {
   "cell_type": "code",
   "execution_count": 36,
   "metadata": {
    "execution": {
     "iopub.execute_input": "2022-12-20T00:02:00.115538Z",
     "iopub.status.busy": "2022-12-20T00:02:00.115130Z",
     "iopub.status.idle": "2022-12-20T00:09:17.637943Z",
     "shell.execute_reply": "2022-12-20T00:09:17.637140Z",
     "shell.execute_reply.started": "2022-12-20T00:02:00.115493Z"
    }
   },
   "outputs": [
    {
     "name": "stderr",
     "output_type": "stream",
     "text": [
      "                                                                                \r"
     ]
    },
    {
     "name": "stdout",
     "output_type": "stream",
     "text": [
      "time_taken: 437.5143868923187\n"
     ]
    }
   ],
   "source": [
    "start_time = time.time()\n",
    "Parameter_Grid = ParamGridBuilder().addGrid(ALS.rank, [5, 10,20]).addGrid(ALS.regParam, [0.1,0.01]) .build()\n",
    "\n",
    "Cross_Validation_Model = CrossValidator(estimator=ALS(coldStartStrategy=\"drop\",\n",
    "                                        userCol=\"user\", \n",
    "                                        itemCol=\"movie\", \n",
    "                                        ratingCol=\"rating\"),\n",
    "                          estimatorParamMaps=Parameter_Grid,\n",
    "                          evaluator=RegressionEvaluator(metricName=\"rmse\", labelCol=\"rating\"),\n",
    "                          parallelism = 3,\n",
    "                          numFolds=3)\n",
    "\n",
    "cvModel = Cross_Validation_Model.fit(Train_data)\n",
    "end_time = time.time()\n",
    "print('time_taken: '+ str(end_time-start_time))"
   ]
  },
  {
   "cell_type": "markdown",
   "metadata": {},
   "source": [
    "### Calculating RMSE on Validation Data"
   ]
  },
  {
   "cell_type": "code",
   "execution_count": 42,
   "metadata": {
    "execution": {
     "iopub.execute_input": "2022-12-19T18:47:03.380302Z",
     "iopub.status.busy": "2022-12-19T18:47:03.379722Z",
     "iopub.status.idle": "2022-12-19T18:47:17.484581Z",
     "shell.execute_reply": "2022-12-19T18:47:17.483276Z",
     "shell.execute_reply.started": "2022-12-19T18:47:03.380264Z"
    }
   },
   "outputs": [
    {
     "name": "stderr",
     "output_type": "stream",
     "text": [
      "                                                                                \r"
     ]
    },
    {
     "name": "stdout",
     "output_type": "stream",
     "text": [
      "Self Defined Function: 1.47458819552488\n"
     ]
    }
   ],
   "source": [
    "predictions = cvModel.bestModel.transform(Validation_Data)\n",
    "evaluator = RegressionEvaluator(metricName=\"rmse\", labelCol=\"rating\",\n",
    "                                predictionCol=\"prediction\")\n",
    "rmse = evaluator.evaluate(predictions)\n",
    "print('Self Defined Function:', rmse)"
   ]
  },
  {
   "cell_type": "code",
   "execution_count": 43,
   "metadata": {
    "execution": {
     "iopub.execute_input": "2022-12-19T18:47:17.486311Z",
     "iopub.status.busy": "2022-12-19T18:47:17.485837Z",
     "iopub.status.idle": "2022-12-19T18:47:18.001497Z",
     "shell.execute_reply": "2022-12-19T18:47:18.000127Z",
     "shell.execute_reply.started": "2022-12-19T18:47:17.486274Z"
    }
   },
   "outputs": [],
   "source": [
    "# Generate top 5 movie recommendations for each user\n",
    "userRecs = cvModel.bestModel.recommendForAllUsers(5)"
   ]
  },
  {
   "cell_type": "code",
   "execution_count": 44,
   "metadata": {
    "execution": {
     "iopub.execute_input": "2022-12-19T18:47:18.003432Z",
     "iopub.status.busy": "2022-12-19T18:47:18.002932Z",
     "iopub.status.idle": "2022-12-19T18:49:50.454934Z",
     "shell.execute_reply": "2022-12-19T18:49:50.453067Z",
     "shell.execute_reply.started": "2022-12-19T18:47:18.003376Z"
    }
   },
   "outputs": [
    {
     "name": "stderr",
     "output_type": "stream",
     "text": [
      "[Stage 2218:=====================================>                  (2 + 1) / 3]\r"
     ]
    },
    {
     "name": "stdout",
     "output_type": "stream",
     "text": [
      "+----+--------------------+\n",
      "|user|     recommendations|\n",
      "+----+--------------------+\n",
      "|   6|[{10561, 5.223877...|\n",
      "+----+--------------------+\n",
      "\n"
     ]
    },
    {
     "name": "stderr",
     "output_type": "stream",
     "text": [
      "                                                                                \r"
     ]
    }
   ],
   "source": [
    "userRecs.limit(1).show()"
   ]
  },
  {
   "cell_type": "markdown",
   "metadata": {},
   "source": [
    "### Final Recommendations for a specific User "
   ]
  },
  {
   "cell_type": "code",
   "execution_count": 75,
   "metadata": {
    "execution": {
     "iopub.execute_input": "2022-12-19T19:03:11.977850Z",
     "iopub.status.busy": "2022-12-19T19:03:11.977440Z",
     "iopub.status.idle": "2022-12-19T19:03:11.984653Z",
     "shell.execute_reply": "2022-12-19T19:03:11.983376Z",
     "shell.execute_reply.started": "2022-12-19T19:03:11.977816Z"
    }
   },
   "outputs": [],
   "source": [
    "def user_recommendation(inp_user_id):\n",
    "    user_specific_recs = userRecs.filter((userRecs.user).isin([inp_user_id])).select('recommendations').collect()\n",
    "    rec_movies = []\n",
    "    for mov in list(user_specific_recs[0][0]):\n",
    "        rec_movies.append(mov[0])\n",
    "    user_rec_movies = []\n",
    "    for i in rec_movies:\n",
    "        user_rec_movies.append((titles.loc[i].values[1]))\n",
    "    return user_rec_movies"
   ]
  },
  {
   "cell_type": "code",
   "execution_count": 76,
   "metadata": {
    "execution": {
     "iopub.execute_input": "2022-12-19T19:03:27.347994Z",
     "iopub.status.busy": "2022-12-19T19:03:27.347545Z",
     "iopub.status.idle": "2022-12-19T19:05:23.979684Z",
     "shell.execute_reply": "2022-12-19T19:05:23.978005Z",
     "shell.execute_reply.started": "2022-12-19T19:03:27.347958Z"
    }
   },
   "outputs": [
    {
     "name": "stderr",
     "output_type": "stream",
     "text": [
      "                                                                                \r"
     ]
    },
    {
     "data": {
      "text/plain": [
       "['Ice Princess',\n",
       " 'All That Heaven Allows',\n",
       " 'Harlan County War',\n",
       " 'Sarah Brightman: One Night in Eden',\n",
       " 'Inu-Yasha: The Movie: Affections Touching Across Time']"
      ]
     },
     "execution_count": 76,
     "metadata": {},
     "output_type": "execute_result"
    }
   ],
   "source": [
    "user_recommendation(6)"
   ]
  }
 ],
 "metadata": {
  "kernelspec": {
   "display_name": "Python 3 (ipykernel)",
   "language": "python",
   "name": "python3"
  },
  "language_info": {
   "codemirror_mode": {
    "name": "ipython",
    "version": 3
   },
   "file_extension": ".py",
   "mimetype": "text/x-python",
   "name": "python",
   "nbconvert_exporter": "python",
   "pygments_lexer": "ipython3",
   "version": "3.9.13"
  }
 },
 "nbformat": 4,
 "nbformat_minor": 4
}
